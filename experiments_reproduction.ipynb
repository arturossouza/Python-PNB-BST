{
 "cells": [
  {
   "cell_type": "code",
   "execution_count": null,
   "metadata": {},
   "outputs": [],
   "source": [
    "import time\n",
    "from threading import Thread\n",
    "import matplotlib.pyplot as plt\n",
    "from pnb_bst.Pnb_Bst import Pnb_Bst\n",
    "import numpy as np"
   ]
  },
  {
   "cell_type": "code",
   "execution_count": null,
   "metadata": {},
   "outputs": [],
   "source": [
    "def measure_throughput_threaded(\n",
    "    operation, tree, keys, low_high, num_threads, iterations\n",
    "):\n",
    "    def worker():\n",
    "        for i in range(iterations):\n",
    "            operation(tree, keys[i % len(keys)], low_high)\n",
    "\n",
    "    start_time = time.time()\n",
    "    threads = []\n",
    "    for _ in range(num_threads):\n",
    "        thread = Thread(target=worker)\n",
    "        threads.append(thread)\n",
    "        thread.start()\n",
    "\n",
    "    for thread in threads:\n",
    "        thread.join()\n",
    "    end_time = time.time()\n",
    "\n",
    "    duration = end_time - start_time\n",
    "    throughput = iterations * num_threads / duration\n",
    "    return throughput"
   ]
  },
  {
   "cell_type": "code",
   "execution_count": null,
   "metadata": {},
   "outputs": [],
   "source": [
    "def plot_throughput(operation_name, throughputs, num_threads_list):\n",
    "    plt.figure(figsize=(20, 10))\n",
    "    plt.plot(num_threads_list, throughputs, marker=\"o\")\n",
    "    plt.xlabel(\"Number of Threads\")\n",
    "    plt.ylabel(\"Throughput (operations/second)\")\n",
    "    plt.title(f\"{operation_name} Throughput vs Number of Threads\")\n",
    "    plt.grid(True)\n",
    "    plt.savefig(\n",
    "        f\"img/{operation_name} Throughput vs Number of Threads.png\", format=\"png\"\n",
    "    )\n",
    "    plt.show()"
   ]
  },
  {
   "cell_type": "code",
   "execution_count": null,
   "metadata": {},
   "outputs": [],
   "source": [
    "def insert_operation(tree, key, low_high):\n",
    "    tree.insert(key)\n",
    "\n",
    "\n",
    "def search_operation(tree, key, low_high):\n",
    "    return tree.search(key)\n",
    "\n",
    "\n",
    "def delete_operation(tree, key, low_high):\n",
    "    tree.delete(key)\n",
    "\n",
    "\n",
    "def find_key_range_operation(tree, key, low_high):\n",
    "    tree.find_key_range(low_high[0], low_high[1])"
   ]
  },
  {
   "cell_type": "code",
   "execution_count": null,
   "metadata": {},
   "outputs": [],
   "source": [
    "tree = Pnb_Bst()\n",
    "num_of_leafs = 100"
   ]
  },
  {
   "cell_type": "code",
   "execution_count": null,
   "metadata": {},
   "outputs": [],
   "source": [
    "keys = [np.random.randint(0, 10000) for _ in range(num_of_leafs)]\n",
    "\n",
    "# Measure and plot throughput for different number of threads\n",
    "num_threads_list = [1, 2, 4, 8, 16, 32, 64, 80, 128]\n",
    "iterations = 1000\n",
    "\n",
    "for key in keys:\n",
    "    tree.insert(key)\n",
    "\n",
    "low_high = [np.random.randint(0, 10000), np.random.randint(0, 10000)]\n",
    "low_high.sort()"
   ]
  },
  {
   "cell_type": "code",
   "execution_count": null,
   "metadata": {},
   "outputs": [],
   "source": [
    "# Measure and plot insert throughput\n",
    "insert_throughputs = [\n",
    "    measure_throughput_threaded(\n",
    "        insert_operation, tree, keys, low_high, num_threads, iterations\n",
    "    )\n",
    "    for num_threads in num_threads_list\n",
    "]\n",
    "plot_throughput(\"Insert\", insert_throughputs, num_threads_list)"
   ]
  },
  {
   "cell_type": "code",
   "execution_count": null,
   "metadata": {},
   "outputs": [],
   "source": [
    "# Measure and plot search throughput\n",
    "search_throughputs = [\n",
    "    measure_throughput_threaded(\n",
    "        search_operation, tree, keys, low_high, num_threads, iterations\n",
    "    )\n",
    "    for num_threads in num_threads_list\n",
    "]\n",
    "plot_throughput(\"Search\", search_throughputs, num_threads_list)"
   ]
  },
  {
   "cell_type": "code",
   "execution_count": null,
   "metadata": {},
   "outputs": [],
   "source": [
    "# Measure and plot find key range throughput\n",
    "find_key_range_throughputs = [\n",
    "    measure_throughput_threaded(\n",
    "        find_key_range_operation, tree, keys, low_high, num_threads, iterations\n",
    "    )\n",
    "    for num_threads in num_threads_list\n",
    "]\n",
    "plot_throughput(\"Find Key Range\", find_key_range_throughputs, num_threads_list)"
   ]
  },
  {
   "cell_type": "code",
   "execution_count": null,
   "metadata": {},
   "outputs": [],
   "source": [
    "# Measure and plot delete throughput\n",
    "delete_throughputs = [\n",
    "    measure_throughput_threaded(\n",
    "        delete_operation, tree, keys, low_high, num_threads, iterations\n",
    "    )\n",
    "    for num_threads in num_threads_list\n",
    "]\n",
    "plot_throughput(\"Delete\", delete_throughputs, num_threads_list)"
   ]
  }
 ],
 "metadata": {
  "kernelspec": {
   "display_name": ".venv",
   "language": "python",
   "name": "python3"
  },
  "language_info": {
   "codemirror_mode": {
    "name": "ipython",
    "version": 3
   },
   "file_extension": ".py",
   "mimetype": "text/x-python",
   "name": "python",
   "nbconvert_exporter": "python",
   "pygments_lexer": "ipython3",
   "version": "3.10.12"
  }
 },
 "nbformat": 4,
 "nbformat_minor": 2
}
